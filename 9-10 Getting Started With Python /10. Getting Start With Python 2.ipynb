{
 "cells": [
  {
   "cell_type": "markdown",
   "metadata": {},
   "source": [
    "# Getting Start With Python 2"
   ]
  },
  {
   "cell_type": "markdown",
   "metadata": {},
   "source": [
    "## A. Checking True False"
   ]
  },
  {
   "cell_type": "code",
   "execution_count": 1,
   "metadata": {},
   "outputs": [],
   "source": [
    "a=6"
   ]
  },
  {
   "cell_type": "code",
   "execution_count": 2,
   "metadata": {},
   "outputs": [
    {
     "data": {
      "text/plain": [
       "False"
      ]
     },
     "execution_count": 2,
     "metadata": {},
     "output_type": "execute_result"
    }
   ],
   "source": [
    "a==7"
   ]
  },
  {
   "cell_type": "code",
   "execution_count": 3,
   "metadata": {},
   "outputs": [
    {
     "data": {
      "text/plain": [
       "True"
      ]
     },
     "execution_count": 3,
     "metadata": {},
     "output_type": "execute_result"
    }
   ],
   "source": [
    "a==6"
   ]
  },
  {
   "cell_type": "code",
   "execution_count": 4,
   "metadata": {},
   "outputs": [
    {
     "data": {
      "text/plain": [
       "False"
      ]
     },
     "execution_count": 4,
     "metadata": {},
     "output_type": "execute_result"
    }
   ],
   "source": [
    "a!=6"
   ]
  },
  {
   "cell_type": "code",
   "execution_count": 5,
   "metadata": {},
   "outputs": [
    {
     "data": {
      "text/plain": [
       "True"
      ]
     },
     "execution_count": 5,
     "metadata": {},
     "output_type": "execute_result"
    }
   ],
   "source": [
    "a!=8"
   ]
  },
  {
   "cell_type": "code",
   "execution_count": 6,
   "metadata": {},
   "outputs": [
    {
     "data": {
      "text/plain": [
       "True"
      ]
     },
     "execution_count": 6,
     "metadata": {},
     "output_type": "execute_result"
    }
   ],
   "source": [
    "\"aaa\" == \"aaa\""
   ]
  },
  {
   "cell_type": "code",
   "execution_count": 7,
   "metadata": {},
   "outputs": [
    {
     "data": {
      "text/plain": [
       "False"
      ]
     },
     "execution_count": 7,
     "metadata": {},
     "output_type": "execute_result"
    }
   ],
   "source": [
    "\"aAA\" == \"aaa\""
   ]
  },
  {
   "cell_type": "code",
   "execution_count": 8,
   "metadata": {},
   "outputs": [],
   "source": [
    "age = 15"
   ]
  },
  {
   "cell_type": "markdown",
   "metadata": {},
   "source": [
    "## B. If-else Statement"
   ]
  },
  {
   "cell_type": "code",
   "execution_count": 10,
   "metadata": {},
   "outputs": [
    {
     "name": "stdout",
     "output_type": "stream",
     "text": [
      "You can enter\n"
     ]
    }
   ],
   "source": [
    "if(age < 15):\n",
    "    print(\"Move on\")\n",
    "else:\n",
    "    print(\"You can enter\")"
   ]
  },
  {
   "cell_type": "code",
   "execution_count": 12,
   "metadata": {},
   "outputs": [
    {
     "name": "stdout",
     "output_type": "stream",
     "text": [
      "You can enter\n",
      "Move on\n"
     ]
    }
   ],
   "source": [
    "age = 20\n",
    "if(age > 18):\n",
    "    print(\"You can enter\")\n",
    "print(\"Move on\")"
   ]
  },
  {
   "cell_type": "code",
   "execution_count": 27,
   "metadata": {},
   "outputs": [
    {
     "name": "stdout",
     "output_type": "stream",
     "text": [
      "5\n",
      "ganjil\n"
     ]
    }
   ],
   "source": [
    "x = int(input())\n",
    "if(x%2==0):\n",
    "    print(\"genap\")\n",
    "else:\n",
    "    print(\"ganjil\")"
   ]
  },
  {
   "cell_type": "code",
   "execution_count": null,
   "metadata": {},
   "outputs": [],
   "source": [
    "x = int(input())\n",
    "if(x%400==0):\n",
    "    print(\"tahun kabisat\")\n",
    "else:\n",
    "    if (x%100 == 0):\n",
    "        print(\"bukan\")\n",
    "    else:\n",
    "        if (x%4 == 0):\n",
    "            print(\"tahun kabisat\")\n",
    "        else:\n",
    "            print(\"bukan\")"
   ]
  },
  {
   "cell_type": "code",
   "execution_count": null,
   "metadata": {},
   "outputs": [],
   "source": [
    "x = int(input())\n",
    "if(x%4 == 0 and x%100 != 0 or x%400 == 0):\n",
    "    print(\"tahun kabisat\")\n",
    "else:\n",
    "    print(\"bukan\")"
   ]
  },
  {
   "cell_type": "markdown",
   "metadata": {},
   "source": [
    "## C. Iteration"
   ]
  },
  {
   "cell_type": "code",
   "execution_count": 1,
   "metadata": {},
   "outputs": [
    {
     "name": "stdout",
     "output_type": "stream",
     "text": [
      "0\n",
      "#0\n",
      "1\n",
      "#1\n",
      "1\n",
      "#1\n",
      "2\n",
      "#2\n",
      "Input: 3\n",
      "Output: 2\n"
     ]
    }
   ],
   "source": [
    "n = 3\n",
    "a = 0\n",
    "b = 1\n",
    "c = 0\n",
    "while a < n :\n",
    "    #print(a)\n",
    "    c = a\n",
    "    print(a)\n",
    "    a, b=b, a+b\n",
    "    print(\"#\" + str(c))\n",
    "    #print(c, a, b)\n",
    "print(\"Input: \" + str(n))\n",
    "print(\"Output: \" + str(c))"
   ]
  },
  {
   "cell_type": "code",
   "execution_count": 5,
   "metadata": {},
   "outputs": [
    {
     "name": "stdout",
     "output_type": "stream",
     "text": [
      "['white', 'yellow', 'green', 'purple', 'blue']\n",
      "['white', 'white', 'green', 'purple', 'blue']\n",
      "['white', 'white', 'white', 'purple', 'blue']\n",
      "['white', 'white', 'white', 'white', 'blue']\n",
      "['white', 'white', 'white', 'white', 'white']\n"
     ]
    }
   ],
   "source": [
    "squares = [\"red\", \"yellow\", \"green\", \"purple\", \"blue\"]\n",
    "for i in range(0,5):\n",
    "    squares[i]=\"white\"\n",
    "    print(squares)"
   ]
  },
  {
   "cell_type": "code",
   "execution_count": 6,
   "metadata": {},
   "outputs": [
    {
     "name": "stdout",
     "output_type": "stream",
     "text": [
      "1 , 2 , "
     ]
    }
   ],
   "source": [
    "squares = ['orange', 'orange', 'purple', 'blue']\n",
    "Newsquares=[]\n",
    "i=0\n",
    "while(squares[i]=='orange'):\n",
    "    Newsquares.append(squares[i])\n",
    "    i=i+1\n",
    "    print(i, \", \", end='')"
   ]
  },
  {
   "cell_type": "code",
   "execution_count": 7,
   "metadata": {},
   "outputs": [
    {
     "name": "stdout",
     "output_type": "stream",
     "text": [
      "ORANGE\n",
      "ORANGE\n",
      "PURPLE\n",
      "BLUE\n"
     ]
    }
   ],
   "source": [
    "for square in squares:\n",
    "    print(square.upper())"
   ]
  },
  {
   "cell_type": "code",
   "execution_count": 8,
   "metadata": {},
   "outputs": [
    {
     "name": "stdout",
     "output_type": "stream",
     "text": [
      "Color 0 is orange\n",
      "Color 1 is orange\n",
      "Color 2 is purple\n",
      "Color 3 is blue\n"
     ]
    }
   ],
   "source": [
    "for i, color in enumerate(squares):\n",
    "    print(\"Color \" + str(i) + \" is \" + color)"
   ]
  },
  {
   "cell_type": "code",
   "execution_count": 9,
   "metadata": {},
   "outputs": [
    {
     "name": "stdout",
     "output_type": "stream",
     "text": [
      "Input : \n",
      "3\n",
      "Output  : \n",
      "2\n"
     ]
    }
   ],
   "source": [
    "print (\"Input : \")\n",
    "n = int(input())\n",
    "print (\"Output  : \")\n",
    "\n",
    "def fibonacci(n):\n",
    "    a, b, c= 0, 1, 0\n",
    "    while a < n :\n",
    "        c = a\n",
    "        a, b=b, a+b\n",
    "    print(c)\n",
    "    \n",
    "fibonacci(n)"
   ]
  },
  {
   "cell_type": "markdown",
   "metadata": {},
   "source": [
    "## D. Basic Function"
   ]
  },
  {
   "cell_type": "code",
   "execution_count": 2,
   "metadata": {},
   "outputs": [
    {
     "name": "stdout",
     "output_type": "stream",
     "text": [
      "2\n",
      "2 + 1 =  3\n"
     ]
    },
    {
     "data": {
      "text/plain": [
       "3"
      ]
     },
     "execution_count": 2,
     "metadata": {},
     "output_type": "execute_result"
    }
   ],
   "source": [
    "x = int(input())\n",
    "def penjumlahan(a):\n",
    "    b = a + 1\n",
    "    print(a, \"+ 1 = \",b)\n",
    "    return b\n",
    "penjumlahan(x)"
   ]
  },
  {
   "cell_type": "code",
   "execution_count": 3,
   "metadata": {},
   "outputs": [
    {
     "name": "stdout",
     "output_type": "stream",
     "text": [
      "3\n",
      "2\n",
      "3  +  2\n"
     ]
    },
    {
     "data": {
      "text/plain": [
       "5"
      ]
     },
     "execution_count": 3,
     "metadata": {},
     "output_type": "execute_result"
    }
   ],
   "source": [
    "x = int(input())\n",
    "y = int(input())\n",
    "def penjumlahan(a, b):\n",
    "    c = a + b\n",
    "    print(a, \" + \",b)\n",
    "    return c\n",
    "penjumlahan(x, y)"
   ]
  },
  {
   "cell_type": "code",
   "execution_count": 4,
   "metadata": {},
   "outputs": [
    {
     "name": "stdout",
     "output_type": "stream",
     "text": [
      "DKI Jakarta\n"
     ]
    }
   ],
   "source": [
    "def jakarta():\n",
    "    a = \"DKI Jakarta\"\n",
    "    print(a)\n",
    "jakarta()"
   ]
  }
 ],
 "metadata": {
  "kernelspec": {
   "display_name": "Python 3",
   "language": "python",
   "name": "python3"
  },
  "language_info": {
   "codemirror_mode": {
    "name": "ipython",
    "version": 3
   },
   "file_extension": ".py",
   "mimetype": "text/x-python",
   "name": "python",
   "nbconvert_exporter": "python",
   "pygments_lexer": "ipython3",
   "version": "3.7.3"
  }
 },
 "nbformat": 4,
 "nbformat_minor": 2
}
