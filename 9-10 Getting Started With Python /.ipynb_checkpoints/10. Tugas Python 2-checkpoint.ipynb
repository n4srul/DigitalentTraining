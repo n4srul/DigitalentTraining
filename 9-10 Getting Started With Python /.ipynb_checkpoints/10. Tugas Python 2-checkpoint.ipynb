{
 "cells": [
  {
   "cell_type": "markdown",
   "metadata": {},
   "source": [
    "# Tugas Python 2"
   ]
  },
  {
   "cell_type": "markdown",
   "metadata": {},
   "source": [
    "Soal 1: Input berupa suatu angka, outputkan bilangan Fibonacci terbesar yang lebih kecil."
   ]
  },
  {
   "cell_type": "code",
   "execution_count": 1,
   "metadata": {},
   "outputs": [
    {
     "name": "stdout",
     "output_type": "stream",
     "text": [
      "Input: 701408733\n",
      "Output: 433494437\n"
     ]
    }
   ],
   "source": [
    "n = 701408733\n",
    "a = 0\n",
    "b = 1\n",
    "c = 0\n",
    "while a < n :\n",
    "    c = a\n",
    "    a, b=b, a+b\n",
    "print(\"Input: \" + str(n))\n",
    "print(\"Output: \" + str(c))"
   ]
  },
  {
   "cell_type": "markdown",
   "metadata": {},
   "source": [
    "Soal 2: Input berupa satu angka, outputkan bintang-bintang yang membentuk bendera Skotlandia"
   ]
  },
  {
   "cell_type": "code",
   "execution_count": 2,
   "metadata": {},
   "outputs": [
    {
     "name": "stdout",
     "output_type": "stream",
     "text": [
      "Input: 11\n",
      "Output: \n",
      "***********\n",
      "**       **\n",
      "* *     * *\n",
      "*  *   *  *\n",
      "*   * *   *\n",
      "*    *    *\n",
      "*   * *   *\n",
      "*  *   *  *\n",
      "* *     * *\n",
      "**       **\n",
      "***********\n"
     ]
    }
   ],
   "source": [
    "n = 11\n",
    "print(\"Input: \" + str(n))\n",
    "print(\"Output: \")\n",
    "\n",
    "for a in range(1, n+1): \n",
    "        for b in range(1, n+1) : \n",
    "            if (a==1 or a==n or b==1 or b==n) : \n",
    "                print(\"*\", end = \"\")\n",
    "            elif(b==a or b==(n - a + 1)):\n",
    "                print(\"*\", end = \"\")\n",
    "            else : \n",
    "                print(\" \", end = \"\")\n",
    "        print(\"\")"
   ]
  }
 ],
 "metadata": {
  "kernelspec": {
   "display_name": "Python 3",
   "language": "python",
   "name": "python3"
  },
  "language_info": {
   "codemirror_mode": {
    "name": "ipython",
    "version": 3
   },
   "file_extension": ".py",
   "mimetype": "text/x-python",
   "name": "python",
   "nbconvert_exporter": "python",
   "pygments_lexer": "ipython3",
   "version": "3.7.3"
  }
 },
 "nbformat": 4,
 "nbformat_minor": 2
}
